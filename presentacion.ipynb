{
 "cells": [
  {
   "cell_type": "markdown",
   "id": "c53f7785",
   "metadata": {},
   "source": [
    "## 🤖 Simulación de un Bot de Trading con Eventos Discretos\n",
    "\n",
    "Este notebook tiene como objetivo explorar y analizar algunos comportamientos de bots de trading mediante simulaciones de eventos discretos. \n",
    "\n",
    "Sientace libre de crear nuevos analisis y jugar con los parametros de la simulacion para obtener nuevos resultados, ayudandote del codigo que se brinda en el proyecto\n"
   ]
  },
  {
   "cell_type": "markdown",
   "id": "661adcfb",
   "metadata": {},
   "source": [
    "## 🛠️ Importación de librerías y funciones"
   ]
  },
  {
   "cell_type": "code",
   "execution_count": 5,
   "id": "03258270",
   "metadata": {},
   "outputs": [],
   "source": [
    "import sys\n",
    "sys.path.append('./src')\n",
    "from src.bot import TradingBot\n",
    "from src.market import *\n",
    "from src.analysis import *\n",
    "from src.plotter import *\n",
    "import matplotlib.pyplot as plt\n",
    "import numpy as np\n",
    "import pandas as pd\n"
   ]
  },
  {
   "cell_type": "markdown",
   "id": "c06f7486",
   "metadata": {},
   "source": [
    "## 📦Variables Globales"
   ]
  },
  {
   "cell_type": "code",
   "execution_count": null,
   "id": "3064a8d2",
   "metadata": {},
   "outputs": [],
   "source": [
    "bot_conservador = {\"name\": \"Conservador\", \"initial_cash\": 1000, \"buy_thresh\": 0.98, \"sell_thresh\": 1.02, \"fee\": 0.005}\n",
    "bot_agresivo = {\"name\": \"Agresivo\", \"initial_cash\": 1000, \"buy_thresh\": 0.95, \"sell_thresh\": 1.05, \"fee\": 0.005}\n",
    "bot_tendencia = {\"name\": \"Tendencia\", \"initial_cash\": 10000, \"buy_thresh\": 0.97, \"sell_thresh\": 1.03, \"fee\": 0.005}\n",
    "gwt_params = {'n_steps':300, 'initial_price':100, 'sigma':1.0, 'mu':0.1, 'seed':None}\n",
    "bot_config = bot_tendencia\n",
    "generators = {\"Gaussiano\": gaussian_walk,\"Con Tendencia\": gaussian_walk_with_trend,\"Geom Brown\": geometric_brownian_motion,\"Mean Revert\": mean_reverting}"
   ]
  },
  {
   "cell_type": "markdown",
   "id": "17267192",
   "metadata": {},
   "source": [
    "## 🔍 Análisis 1: Comparación de estrategias (Conservador vs Agresivo)\n",
    "\n",
    "**Objetivo:** Comparar dos estrategias de bot para evaluar cuál obtiene mayor ganancia media y menor varianza."
   ]
  },
  {
   "cell_type": "code",
   "execution_count": null,
   "id": "a7f6f85c",
   "metadata": {},
   "outputs": [],
   "source": [
    "df_conservador = simulate_multiple_runs(bot_conservador, n_runs=10000)\n",
    "df_agresivo = simulate_multiple_runs(bot_agresivo, n_runs=10000)\n",
    "\n",
    "resumen = pd.DataFrame({\n",
    "    \"Bot\": [\"Conservador\", \"Agresivo\"],\n",
    "    \"Ganancia Prom.\": [df_conservador[\"net_worth\"].mean(), df_agresivo[\"net_worth\"].mean()],\n",
    "    \"Trades Prom.\": [df_conservador[\"trades\"].mean(), df_agresivo[\"trades\"].mean()],\n",
    "    \"Std Dev\": [df_conservador[\"net_worth\"].std(), df_agresivo[\"net_worth\"].std()]\n",
    "})\n",
    "resumen"
   ]
  },
  {
   "cell_type": "markdown",
   "id": "44f33cba",
   "metadata": {},
   "source": [
    "## **Interpretación:**\n",
    "\n",
    "El bot agresivo obtiene mayor ganancia promedio, pero su desviación estándar también es más alta. Esto implica mayor riesgo, lo cual puede ser deseable o no según el contexto del mercado."
   ]
  },
  {
   "cell_type": "markdown",
   "id": "aa22e751",
   "metadata": {},
   "source": [
    "## Mostrar y Guardar los graficos"
   ]
  },
  {
   "cell_type": "code",
   "execution_count": null,
   "id": "7dca75ee",
   "metadata": {},
   "outputs": [],
   "source": [
    "plot_distribution(df_conservador, save_path=\"figures/distribucion_bot.png\", title=\"bot_conservador\")\n",
    "stats = test_normality(df_conservador)\n",
    "print(\"Shapiro:\", stats[\"shapiro\"])\n",
    "print(\"D'Agostino:\", stats[\"normaltest\"], '\\n')\n",
    "\n",
    "df_conservador.to_csv(\"data/resultados_bot_conservador.csv\", index=False)\n",
    "\n",
    "\n",
    "plot_distribution(df_agresivo, save_path=\"figures/distribucion_bot.png\", title=\"bot_agresivo\")\n",
    "stats = test_normality(df_agresivo)\n",
    "print(\"Shapiro:\", stats[\"shapiro\"])\n",
    "print(\"D'Agostino:\", stats[\"normaltest\"])\n",
    "\n",
    "df_agresivo.to_csv(\"data/resultados_bot_agresivo.csv\", index=False)\n"
   ]
  },
  {
   "cell_type": "markdown",
   "id": "e259a6dd",
   "metadata": {},
   "source": [
    "## 🔍 Análisis 2: ¿Influye la tendencia del mercado en el desempeño del bot?\n",
    "\n",
    "**Objetivo:** Comparar el comportamiento del bot en mercados con y sin tendencia.\n"
   ]
  },
  {
   "cell_type": "code",
   "execution_count": null,
   "id": "21ecf07c",
   "metadata": {},
   "outputs": [],
   "source": [
    "resultados = {}\n",
    "\n",
    "for nombre, gen_func in generators.items():\n",
    "    df = simulate_multiple_runs(bot_config, n_runs=100, n_steps=300,\n",
    "                                sigma=1.0 if nombre != \"Geom Brown\" else 0.02)\n",
    "    resultados[nombre] = df\n",
    "    print(f\"🧪 {nombre}: media net worth = ${df['net_worth'].mean():.2f}\")\n",
    "\n",
    "\n",
    "print(\"Comparación entre Gaussiano y Mean-Reverting:\")\n",
    "result = compare_bots(resultados[\"Gaussiano\"], resultados[\"Mean Revert\"])\n",
    "for name, (stat, p) in result.items():\n",
    "    print(f\"{name:>15}: stat={stat:.4f}, p-value={p:.4e}\")\n",
    "\n",
    "plot_price_model_comparison(\n",
    "    resultados_dict=resultados,  # Este diccionario contiene los DataFrames por modelo\n",
    "    metric=\"net_worth\",\n",
    "    save_path=\"figures/comparacion_modelos_networth.png\",\n",
    "    title=\"Ganancia Final según el Modelo de Precios\"\n",
    ")\n",
    "\n",
    "plot_price_model_comparison(\n",
    "    resultados_dict=resultados,\n",
    "    metric=\"trades\",\n",
    "    save_path=\"figures/comparacion_modelos_trades.png\",\n",
    "    title=\"Cantidad de Operaciones según el Modelo de Precios\"\n",
    ")"
   ]
  },
  {
   "cell_type": "markdown",
   "id": "42cc3d26",
   "metadata": {},
   "source": [
    "## **Interpretación:**\n",
    "\n"
   ]
  },
  {
   "cell_type": "markdown",
   "id": "bd7df90f",
   "metadata": {},
   "source": [
    "## 🔍 Análisis 3: Estimación de las metricas con Bootstrap\n",
    "\n",
    "**Objetivo:** Validar y construir un intervalo de confianza para cada una de las metricas del bot.\n"
   ]
  },
  {
   "cell_type": "code",
   "execution_count": null,
   "id": "66ea8cb2",
   "metadata": {},
   "outputs": [],
   "source": [
    "df = simulate_multiple_runs(bot_config, n_runs=100)\n",
    "\n",
    "# Métricas a analizar con bootstrap\n",
    "metrics = [\"net_worth\", \"trades\", \"final_cash\", \"final_position\"]\n",
    "\n",
    "for metric in metrics:\n",
    "    media, (low, high), samples = bootstrap_confidence_interval(df[metric].values)\n",
    "    \n",
    "    print(f\"\\n📈 Métrica: {metric}\")\n",
    "    print(f\"    Media bootstrap: {media:.2f}\")\n",
    "    print(f\"    IC 95%: ({low:.2f}, {high:.2f})\")\n",
    "\n",
    "    plot_bootstrap_distribution(\n",
    "        samples,\n",
    "        real_value=df[metric].mean(),\n",
    "        ci=(low, high),\n",
    "        save_path=f\"figures/bootstrap_{metric}.png\",\n",
    "        title=f\"Distribución Bootstrap - {metric}\"\n",
    "    )"
   ]
  },
  {
   "cell_type": "markdown",
   "id": "103356fa",
   "metadata": {},
   "source": [
    "## 🔍 Análisis 4: ¿Cuántas simulaciones necesito para estimar con confianza cuánto gana mi bot?\n",
    "\n",
    "### 🎯 Objetivo:\n",
    "\n",
    "Simular al bot repetidas veces y detenerse automáticamente cuando el intervalo de confianza para la ganancia promedio sea suficientemente pequeño:"
   ]
  },
  {
   "cell_type": "code",
   "execution_count": null,
   "id": "72aa2ed7",
   "metadata": {},
   "outputs": [],
   "source": [
    "df, final_error, error_trace = simulate_until_confidence(bot_config, d=100)\n",
    "\n",
    "print(f\"[✔] Simulaciones necesarias: {len(df)}\")\n",
    "print(f\"[±] Error final estimado: ${final_error:.2f}\")\n",
    "\n",
    "df.to_csv(\"data/resultados_bot_parada.csv\", index=False)\n",
    "plot_distribution(df, save_path=\"figures/distribucion_bot_parada.png\")"
   ]
  },
  {
   "cell_type": "markdown",
   "id": "1aab5010",
   "metadata": {},
   "source": [
    "## 🔍 Análisis 5: Comparación entre horizontes (semana, mes, año)\n",
    "**Objetivo:** Analizar si el desempeño del bot mejora o empeora al cambiar la duración del escenario simulado.\n"
   ]
  },
  {
   "cell_type": "code",
   "execution_count": null,
   "id": "97f0e442",
   "metadata": {},
   "outputs": [],
   "source": [
    "horizontes = {\"Semana\": 50, \"Mes\": 200, \"Año\": 1000}\n",
    "resultados_h = {}\n",
    "\n",
    "for nombre, pasos in horizontes.items():\n",
    "    df = simulate_multiple_runs(bot_tendencia, n_runs=100, n_steps=pasos)\n",
    "    resultados_h[nombre] = df\n",
    "\n",
    "plot_price_model_comparison(resultados_h, metric=\"net_worth\", title=\"Ganancia según horizonte\")\n"
   ]
  }
 ],
 "metadata": {
  "kernelspec": {
   "display_name": ".venv",
   "language": "python",
   "name": "python3"
  },
  "language_info": {
   "codemirror_mode": {
    "name": "ipython",
    "version": 3
   },
   "file_extension": ".py",
   "mimetype": "text/x-python",
   "name": "python",
   "nbconvert_exporter": "python",
   "pygments_lexer": "ipython3",
   "version": "3.12.3"
  }
 },
 "nbformat": 4,
 "nbformat_minor": 5
}
